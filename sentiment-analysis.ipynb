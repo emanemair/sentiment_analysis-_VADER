{
 "cells": [
  {
   "cell_type": "markdown",
   "id": "e7a0aaf7",
   "metadata": {
    "papermill": {
     "duration": 0.005188,
     "end_time": "2025-07-18T12:48:26.710121",
     "exception": false,
     "start_time": "2025-07-18T12:48:26.704933",
     "status": "completed"
    },
    "tags": []
   },
   "source": [
    "## 📌 Introduction\n",
    "\n",
    "In today's data-driven world, understanding and extracting insights from **unstructured text data**—such as customer reviews—has become paramount for businesses aiming to enhance customer satisfaction and improve their products or services.\n",
    "\n",
    "This project focuses on leveraging **sentiment analysis** to classify **Amazon reviews** as **positive**, **negative**, or **neutral**, providing valuable insights into customer opinions and sentiments.\n"
   ]
  },
  {
   "cell_type": "markdown",
   "id": "ee015f7e",
   "metadata": {
    "papermill": {
     "duration": 0.004491,
     "end_time": "2025-07-18T12:48:26.719515",
     "exception": false,
     "start_time": "2025-07-18T12:48:26.715024",
     "status": "completed"
    },
    "tags": []
   },
   "source": [
    "## 🎯 Objective\n",
    "\n",
    "The primary objective of this project is to develop an **automated sentiment analysis system** capable of accurately determining the **sentiment** expressed in **Amazon customer reviews** by employing **Natural Language Processing (NLP)** techniques.\n"
   ]
  },
  {
   "cell_type": "markdown",
   "id": "4bf4c8c5",
   "metadata": {
    "papermill": {
     "duration": 0.004591,
     "end_time": "2025-07-18T12:48:26.729029",
     "exception": false,
     "start_time": "2025-07-18T12:48:26.724438",
     "status": "completed"
    },
    "tags": []
   },
   "source": [
    "## 🛠️ Methodology\n",
    "\n",
    "### 1. **Data Collection**\n",
    "The dataset used in this project was collected from **Amazon customer reviews**.\n",
    "\n",
    "---\n",
    "\n",
    "### 2. **Data Preparation**\n",
    "\n",
    "Tasks include:\n",
    "\n",
    "- **2.1** Loading and reading the dataset  \n",
    "- **2.2** Cleaning and transforming the data to ensure high-quality input for analysis\n",
    "\n",
    "---\n",
    "\n",
    "### 3. **Preprocessing**\n",
    "\n",
    "Several preprocessing steps were undertaken:\n",
    "\n",
    "- **3.1** Tokenization  \n",
    "- **3.2** Stop-word removal  \n",
    "- **3.3** Stemming/Lemmatization  \n",
    "\n",
    "These steps help **standardize** the text and **reduce noise**.\n",
    "\n",
    "---\n",
    "\n",
    "### 4. **Sentiment Analysis**\n",
    "\n",
    "The final step involves classifying each review as:\n",
    "\n",
    "- **Positive**\n",
    "- **Negative**\n",
    "- **Neutral**\n"
   ]
  },
  {
   "cell_type": "code",
   "execution_count": null,
   "id": "4ae4b70b",
   "metadata": {
    "papermill": {
     "duration": 0.005591,
     "end_time": "2025-07-18T12:48:26.739675",
     "exception": false,
     "start_time": "2025-07-18T12:48:26.734084",
     "status": "completed"
    },
    "tags": []
   },
   "outputs": [],
   "source": []
  },
  {
   "cell_type": "code",
   "execution_count": 1,
   "id": "39e47ccd",
   "metadata": {
    "execution": {
     "iopub.execute_input": "2025-07-18T12:48:26.751539Z",
     "iopub.status.busy": "2025-07-18T12:48:26.751119Z",
     "iopub.status.idle": "2025-07-18T12:48:27.118840Z",
     "shell.execute_reply": "2025-07-18T12:48:27.117304Z"
    },
    "papermill": {
     "duration": 0.376446,
     "end_time": "2025-07-18T12:48:27.121045",
     "exception": true,
     "start_time": "2025-07-18T12:48:26.744599",
     "status": "failed"
    },
    "tags": []
   },
   "outputs": [
    {
     "ename": "ModuleNotFoundError",
     "evalue": "No module named 'twython'",
     "output_type": "error",
     "traceback": [
      "\u001b[0;31m---------------------------------------------------------------------------\u001b[0m",
      "\u001b[0;31mModuleNotFoundError\u001b[0m                       Traceback (most recent call last)",
      "Cell \u001b[0;32mIn[1], line 1\u001b[0m\n\u001b[0;32m----> 1\u001b[0m \u001b[38;5;28;01mfrom\u001b[39;00m \u001b[38;5;21;01mtwython\u001b[39;00m \u001b[38;5;28;01mimport\u001b[39;00m Twython\n",
      "\u001b[0;31mModuleNotFoundError\u001b[0m: No module named 'twython'"
     ]
    }
   ],
   "source": [
    "from twython import Twython\n"
   ]
  },
  {
   "cell_type": "code",
   "execution_count": null,
   "id": "5afd0e61",
   "metadata": {
    "execution": {
     "iopub.execute_input": "2025-07-18T12:35:46.052135Z",
     "iopub.status.busy": "2025-07-18T12:35:46.051733Z",
     "iopub.status.idle": "2025-07-18T12:35:47.970504Z",
     "shell.execute_reply": "2025-07-18T12:35:47.969194Z",
     "shell.execute_reply.started": "2025-07-18T12:35:46.052098Z"
    },
    "papermill": {
     "duration": null,
     "end_time": null,
     "exception": null,
     "start_time": null,
     "status": "pending"
    },
    "tags": []
   },
   "outputs": [],
   "source": [
    "#Importing the Important Libraries \n",
    "import pandas as pd \n",
    "import numpy as np \n",
    "import matplotlib.pyplot as plt\n",
    "import seaborn as sns \n",
    "import nltk\n",
    "\n",
    "plt.style.use('ggplot')"
   ]
  },
  {
   "cell_type": "code",
   "execution_count": null,
   "id": "0e03d1eb",
   "metadata": {
    "execution": {
     "iopub.execute_input": "2025-07-18T12:35:47.972890Z",
     "iopub.status.busy": "2025-07-18T12:35:47.972491Z",
     "iopub.status.idle": "2025-07-18T12:35:47.978142Z",
     "shell.execute_reply": "2025-07-18T12:35:47.977013Z",
     "shell.execute_reply.started": "2025-07-18T12:35:47.972855Z"
    },
    "papermill": {
     "duration": null,
     "end_time": null,
     "exception": null,
     "start_time": null,
     "status": "pending"
    },
    "tags": []
   },
   "outputs": [],
   "source": [
    "file_path=\"/kaggle/input/amazon-fine-food-reviews/Reviews.csv\""
   ]
  },
  {
   "cell_type": "code",
   "execution_count": null,
   "id": "0ab2a674",
   "metadata": {
    "execution": {
     "iopub.execute_input": "2025-07-18T12:35:47.980110Z",
     "iopub.status.busy": "2025-07-18T12:35:47.979708Z",
     "iopub.status.idle": "2025-07-18T12:35:57.415795Z",
     "shell.execute_reply": "2025-07-18T12:35:57.414225Z",
     "shell.execute_reply.started": "2025-07-18T12:35:47.980074Z"
    },
    "papermill": {
     "duration": null,
     "end_time": null,
     "exception": null,
     "start_time": null,
     "status": "pending"
    },
    "tags": []
   },
   "outputs": [],
   "source": [
    "#load the dataset into a dataframe\n",
    "dataset=pd.read_csv(file_path)"
   ]
  },
  {
   "cell_type": "code",
   "execution_count": null,
   "id": "d3932ece",
   "metadata": {
    "execution": {
     "iopub.execute_input": "2025-07-18T12:35:57.418990Z",
     "iopub.status.busy": "2025-07-18T12:35:57.418442Z",
     "iopub.status.idle": "2025-07-18T12:35:57.448710Z",
     "shell.execute_reply": "2025-07-18T12:35:57.447424Z",
     "shell.execute_reply.started": "2025-07-18T12:35:57.418942Z"
    },
    "papermill": {
     "duration": null,
     "end_time": null,
     "exception": null,
     "start_time": null,
     "status": "pending"
    },
    "tags": []
   },
   "outputs": [],
   "source": [
    "#read the first 5 rows of the dataset\n",
    "dataset.head()"
   ]
  },
  {
   "cell_type": "code",
   "execution_count": null,
   "id": "b70c0b35",
   "metadata": {
    "execution": {
     "iopub.execute_input": "2025-07-18T12:35:57.450427Z",
     "iopub.status.busy": "2025-07-18T12:35:57.450028Z",
     "iopub.status.idle": "2025-07-18T12:35:57.458798Z",
     "shell.execute_reply": "2025-07-18T12:35:57.457496Z",
     "shell.execute_reply.started": "2025-07-18T12:35:57.450382Z"
    },
    "papermill": {
     "duration": null,
     "end_time": null,
     "exception": null,
     "start_time": null,
     "status": "pending"
    },
    "tags": []
   },
   "outputs": [],
   "source": [
    "#check the dataset shape \n",
    "dataset.shape"
   ]
  },
  {
   "cell_type": "markdown",
   "id": "303a307b",
   "metadata": {
    "papermill": {
     "duration": null,
     "end_time": null,
     "exception": null,
     "start_time": null,
     "status": "pending"
    },
    "tags": []
   },
   "source": [
    " <h5 syle=\"solor:#183D3D\"> The Data Set Contain of [568454] Rows and [5] Columns</h5> "
   ]
  },
  {
   "cell_type": "code",
   "execution_count": null,
   "id": "ee52fbef",
   "metadata": {
    "execution": {
     "iopub.execute_input": "2025-07-18T12:35:57.460787Z",
     "iopub.status.busy": "2025-07-18T12:35:57.460413Z",
     "iopub.status.idle": "2025-07-18T12:35:57.481678Z",
     "shell.execute_reply": "2025-07-18T12:35:57.480377Z",
     "shell.execute_reply.started": "2025-07-18T12:35:57.460752Z"
    },
    "papermill": {
     "duration": null,
     "end_time": null,
     "exception": null,
     "start_time": null,
     "status": "pending"
    },
    "tags": []
   },
   "outputs": [],
   "source": [
    "#dataset columns name \n",
    "dataset.columns"
   ]
  },
  {
   "cell_type": "code",
   "execution_count": null,
   "id": "144f6878",
   "metadata": {
    "execution": {
     "iopub.execute_input": "2025-07-18T12:35:57.483838Z",
     "iopub.status.busy": "2025-07-18T12:35:57.483357Z",
     "iopub.status.idle": "2025-07-18T12:35:58.005594Z",
     "shell.execute_reply": "2025-07-18T12:35:58.004004Z",
     "shell.execute_reply.started": "2025-07-18T12:35:57.483797Z"
    },
    "papermill": {
     "duration": null,
     "end_time": null,
     "exception": null,
     "start_time": null,
     "status": "pending"
    },
    "tags": []
   },
   "outputs": [],
   "source": [
    "#check the missing  values  in the dataset\n",
    "dataset.isna().sum()"
   ]
  },
  {
   "cell_type": "code",
   "execution_count": null,
   "id": "f685d209",
   "metadata": {
    "execution": {
     "iopub.execute_input": "2025-07-18T12:35:58.007910Z",
     "iopub.status.busy": "2025-07-18T12:35:58.007407Z",
     "iopub.status.idle": "2025-07-18T12:35:58.517715Z",
     "shell.execute_reply": "2025-07-18T12:35:58.516256Z",
     "shell.execute_reply.started": "2025-07-18T12:35:58.007861Z"
    },
    "papermill": {
     "duration": null,
     "end_time": null,
     "exception": null,
     "start_time": null,
     "status": "pending"
    },
    "tags": []
   },
   "outputs": [],
   "source": [
    "dataset.isna().sum().sum()"
   ]
  },
  {
   "cell_type": "code",
   "execution_count": null,
   "id": "ed844d2a",
   "metadata": {
    "execution": {
     "iopub.execute_input": "2025-07-18T12:35:58.519981Z",
     "iopub.status.busy": "2025-07-18T12:35:58.519473Z",
     "iopub.status.idle": "2025-07-18T12:35:58.611382Z",
     "shell.execute_reply": "2025-07-18T12:35:58.609513Z",
     "shell.execute_reply.started": "2025-07-18T12:35:58.519927Z"
    },
    "papermill": {
     "duration": null,
     "end_time": null,
     "exception": null,
     "start_time": null,
     "status": "pending"
    },
    "tags": []
   },
   "outputs": [],
   "source": [
    "#consider the most important columns for this project \n",
    "dataset = dataset[['Id', 'ProductId', #'UserId', 'ProfileName', 'HelpfulnessNumerator',\n",
    "       #'HelpfulnessDenominator',\n",
    "                   'Score', #'Time',\n",
    "                   #'Summary'\n",
    "                    'Text']].copy()"
   ]
  },
  {
   "cell_type": "code",
   "execution_count": null,
   "id": "13f1493c",
   "metadata": {
    "execution": {
     "iopub.execute_input": "2025-07-18T12:35:58.616093Z",
     "iopub.status.busy": "2025-07-18T12:35:58.615497Z",
     "iopub.status.idle": "2025-07-18T12:35:58.624675Z",
     "shell.execute_reply": "2025-07-18T12:35:58.623234Z",
     "shell.execute_reply.started": "2025-07-18T12:35:58.616031Z"
    },
    "papermill": {
     "duration": null,
     "end_time": null,
     "exception": null,
     "start_time": null,
     "status": "pending"
    },
    "tags": []
   },
   "outputs": [],
   "source": [
    "dataset.shape"
   ]
  },
  {
   "cell_type": "markdown",
   "id": "d8568376",
   "metadata": {
    "papermill": {
     "duration": null,
     "end_time": null,
     "exception": null,
     "start_time": null,
     "status": "pending"
    },
    "tags": []
   },
   "source": [
    "## 🧠 How Sentiment Analysis Works\n",
    "\n",
    "### 1. **Tokenization**  \n",
    "The first step is to divide the text into **tokens**, which are individual words or phrases. Each token is assigned a standardized format for processing.\n",
    "\n",
    "### 2. **Polarity Score Calculation**  \n",
    "For each text, a **polarity score** is calculated. This score can include the following components:\n",
    "\n",
    "- **Positive (Pos):** Indicates a positive sentiment.  \n",
    "- **Negative (Neg):** Indicates a negative sentiment.  \n",
    "- **Neutral (Neu):** Indicates a neutral sentiment.  \n",
    "- **Compound (Comp):** A composite value that represents the overall sentiment of the text by combining positive, negative, and neutral elements.\n",
    "\n",
    "The **Pos** score reflects the degree of positivity in the text, the **Neg** score indicates negativity, and the **Neu** score captures neutral tone. The **Comp** score provides an overall sentiment assessment:\n",
    "- **Positive Comp values** → positive sentiment  \n",
    "- **Negative Comp values** → negative sentiment\n"
   ]
  },
  {
   "cell_type": "code",
   "execution_count": null,
   "id": "c7a7e132",
   "metadata": {
    "execution": {
     "iopub.execute_input": "2025-07-18T12:35:58.627675Z",
     "iopub.status.busy": "2025-07-18T12:35:58.626570Z",
     "iopub.status.idle": "2025-07-18T12:35:58.677438Z",
     "shell.execute_reply": "2025-07-18T12:35:58.676060Z",
     "shell.execute_reply.started": "2025-07-18T12:35:58.627563Z"
    },
    "papermill": {
     "duration": null,
     "end_time": null,
     "exception": null,
     "start_time": null,
     "status": "pending"
    },
    "tags": []
   },
   "outputs": [],
   "source": [
    "from nltk.sentiment import SentimentIntensityAnalyzer\n",
    "from tqdm.notebook import tqdm #to loop through the dataset row by row \n",
    "\n",
    "sia = SentimentIntensityAnalyzer()"
   ]
  },
  {
   "cell_type": "code",
   "execution_count": null,
   "id": "c9c483f2",
   "metadata": {
    "execution": {
     "iopub.execute_input": "2025-07-18T12:35:58.679447Z",
     "iopub.status.busy": "2025-07-18T12:35:58.679002Z",
     "iopub.status.idle": "2025-07-18T12:46:29.027980Z",
     "shell.execute_reply": "2025-07-18T12:46:29.026398Z",
     "shell.execute_reply.started": "2025-07-18T12:35:58.679408Z"
    },
    "papermill": {
     "duration": null,
     "end_time": null,
     "exception": null,
     "start_time": null,
     "status": "pending"
    },
    "tags": []
   },
   "outputs": [],
   "source": [
    "# find the polarity score on the entire dataset\n",
    "#this will get a dictionary contain the [ID  ,neg, neu , pos ,comp ]\n",
    "res = {}\n",
    "for i, row in tqdm(dataset.iterrows(), total=len(dataset)):\n",
    "    text = row['Text']\n",
    "    myid = row['Id']\n",
    "    res[myid] = sia.polarity_scores(text)"
   ]
  },
  {
   "cell_type": "code",
   "execution_count": null,
   "id": "b5caf743",
   "metadata": {
    "execution": {
     "iopub.execute_input": "2025-07-18T12:46:29.030483Z",
     "iopub.status.busy": "2025-07-18T12:46:29.029926Z",
     "iopub.status.idle": "2025-07-18T12:46:29.163268Z",
     "shell.execute_reply": "2025-07-18T12:46:29.161686Z",
     "shell.execute_reply.started": "2025-07-18T12:46:29.030431Z"
    },
    "papermill": {
     "duration": null,
     "end_time": null,
     "exception": null,
     "start_time": null,
     "status": "pending"
    },
    "tags": []
   },
   "outputs": [],
   "source": [
    "#show the polarity score for each text \n",
    "res"
   ]
  },
  {
   "cell_type": "code",
   "execution_count": null,
   "id": "962134c5",
   "metadata": {
    "execution": {
     "iopub.execute_input": "2025-07-18T12:46:29.165334Z",
     "iopub.status.busy": "2025-07-18T12:46:29.164913Z",
     "iopub.status.idle": "2025-07-18T12:46:43.130470Z",
     "shell.execute_reply": "2025-07-18T12:46:43.129157Z",
     "shell.execute_reply.started": "2025-07-18T12:46:29.165258Z"
    },
    "papermill": {
     "duration": null,
     "end_time": null,
     "exception": null,
     "start_time": null,
     "status": "pending"
    },
    "tags": []
   },
   "outputs": [],
   "source": [
    "#conver res to dataframe called vasders then merge vaders dataframe with the whole dataset through the Id column \n",
    "vaders = pd.DataFrame(res).T\n",
    "vaders = vaders.reset_index().rename(columns={'index': 'Id'})\n",
    "vaders = vaders.merge(dataset, how='left')\n"
   ]
  },
  {
   "cell_type": "code",
   "execution_count": null,
   "id": "c78be3cd",
   "metadata": {
    "execution": {
     "iopub.execute_input": "2025-07-18T12:46:43.132550Z",
     "iopub.status.busy": "2025-07-18T12:46:43.132103Z",
     "iopub.status.idle": "2025-07-18T12:46:43.153364Z",
     "shell.execute_reply": "2025-07-18T12:46:43.151808Z",
     "shell.execute_reply.started": "2025-07-18T12:46:43.132512Z"
    },
    "papermill": {
     "duration": null,
     "end_time": null,
     "exception": null,
     "start_time": null,
     "status": "pending"
    },
    "tags": []
   },
   "outputs": [],
   "source": [
    "vaders.head(5)"
   ]
  },
  {
   "cell_type": "code",
   "execution_count": null,
   "id": "88ababc5",
   "metadata": {
    "execution": {
     "iopub.execute_input": "2025-07-18T12:46:43.155705Z",
     "iopub.status.busy": "2025-07-18T12:46:43.155208Z",
     "iopub.status.idle": "2025-07-18T12:47:23.920131Z",
     "shell.execute_reply": "2025-07-18T12:47:23.918839Z",
     "shell.execute_reply.started": "2025-07-18T12:46:43.155661Z"
    },
    "papermill": {
     "duration": null,
     "end_time": null,
     "exception": null,
     "start_time": null,
     "status": "pending"
    },
    "tags": []
   },
   "outputs": [],
   "source": [
    "#Plot VADER results \n",
    "fig, axs = plt.subplots(1, 3, figsize=(12, 3))\n",
    "sns.barplot(data=vaders, x='Score', y='pos', ax=axs[0])\n",
    "sns.barplot(data=vaders, x='Score', y='neu', ax=axs[1])\n",
    "sns.barplot(data=vaders, x='Score', y='neg', ax=axs[2])\n",
    "axs[0].set_title('Positive')\n",
    "axs[1].set_title('Neutral')\n",
    "axs[2].set_title('Negative')\n",
    "plt.tight_layout()\n",
    "plt.show()"
   ]
  }
 ],
 "metadata": {
  "kaggle": {
   "accelerator": "none",
   "dataSources": [
    {
     "datasetId": 18,
     "sourceId": 2157,
     "sourceType": "datasetVersion"
    }
   ],
   "dockerImageVersionId": 30527,
   "isGpuEnabled": false,
   "isInternetEnabled": true,
   "language": "python",
   "sourceType": "notebook"
  },
  "kernelspec": {
   "display_name": "Python 3",
   "language": "python",
   "name": "python3"
  },
  "language_info": {
   "codemirror_mode": {
    "name": "ipython",
    "version": 3
   },
   "file_extension": ".py",
   "mimetype": "text/x-python",
   "name": "python",
   "nbconvert_exporter": "python",
   "pygments_lexer": "ipython3",
   "version": "3.10.12"
  },
  "papermill": {
   "default_parameters": {},
   "duration": 13.741582,
   "end_time": "2025-07-18T12:48:28.048818",
   "environment_variables": {},
   "exception": true,
   "input_path": "__notebook__.ipynb",
   "output_path": "__notebook__.ipynb",
   "parameters": {},
   "start_time": "2025-07-18T12:48:14.307236",
   "version": "2.4.0"
  }
 },
 "nbformat": 4,
 "nbformat_minor": 5
}
